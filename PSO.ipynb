{
  "nbformat": 4,
  "nbformat_minor": 0,
  "metadata": {
    "colab": {
      "provenance": [],
      "mount_file_id": "10kZXAr6ARU1RlZWALnR9r-HVv7GOnVUZ",
      "authorship_tag": "ABX9TyPRILeP22OP8AcIAGtAdOX1",
      "include_colab_link": true
    },
    "kernelspec": {
      "name": "python3",
      "display_name": "Python 3"
    },
    "language_info": {
      "name": "python"
    },
    "gpuClass": "standard"
  },
  "cells": [
    {
      "cell_type": "markdown",
      "metadata": {
        "id": "view-in-github",
        "colab_type": "text"
      },
      "source": [
        "<a href=\"https://colab.research.google.com/github/SG-Akshay10/Dynamic_Programming/blob/main/PSO.ipynb\" target=\"_parent\"><img src=\"https://colab.research.google.com/assets/colab-badge.svg\" alt=\"Open In Colab\"/></a>"
      ]
    },
    {
      "cell_type": "markdown",
      "source": [
        "# **Particle Swarm Optimization**"
      ],
      "metadata": {
        "id": "0EwxJuQjNEEP"
      }
    },
    {
      "cell_type": "markdown",
      "source": [
        "### **Question**: \n",
        "Design a neural network (the choice of implementation model can be pytorch, tensorflow or the whitebox model) for the data set shared in the ML lab assignment for neural networks. \n",
        "\n",
        "* Develop individual code base using following algorithms for weight optimization:\n",
        "1.\tGenetic Algorithm\n",
        "2.\tCultural Algorithm\n",
        "3.\tParticle Swarm Optimization\n",
        "4.\tAnt Colony Optimization\n",
        "* \n",
        "Data to be uploaded to github\n",
        "1.\tNote on the comparison of performance for the four methods. \n",
        "2.\tThe codebase for all four methods \n",
        "3.\tThe research papers that you have referred to.\n",
        "\n"
      ],
      "metadata": {
        "id": "GMwDpLfQuAXh"
      }
    },
    {
      "cell_type": "markdown",
      "source": [
        "### Dependencies and Dataset"
      ],
      "metadata": {
        "id": "Az9-oaE7uKQr"
      }
    },
    {
      "cell_type": "code",
      "execution_count": 103,
      "metadata": {
        "id": "MYKk01BDtVvM"
      },
      "outputs": [],
      "source": [
        "import pandas as pd\n",
        "import matplotlib.pyplot as plt\n",
        "import numpy as np\n",
        "import seaborn as sns\n",
        "import matplotlib.pyplot as plt\n",
        "import random"
      ]
    },
    {
      "cell_type": "code",
      "source": [
        "import tensorflow as tf\n",
        "from tensorflow import keras\n",
        "from tensorflow.keras.layers import Dense, Activation, Dropout\n",
        "from tensorflow.keras.optimizers import Adam\n",
        "from tensorflow.keras.metrics import Accuracy\n",
        "from tensorflow.keras.utils import to_categorical"
      ],
      "metadata": {
        "id": "dEtH4eNutoEv"
      },
      "execution_count": 104,
      "outputs": []
    },
    {
      "cell_type": "code",
      "source": [
        "from sklearn import metrics\n",
        "from sklearn.preprocessing import StandardScaler, MinMaxScaler\n",
        "from sklearn.model_selection import train_test_split\n",
        "from sklearn.metrics import classification_report\n",
        "from sklearn.preprocessing import StandardScaler"
      ],
      "metadata": {
        "id": "fhHuBB7Zty-S"
      },
      "execution_count": 105,
      "outputs": []
    },
    {
      "cell_type": "code",
      "source": [
        "import os\n",
        "import torch\n",
        "from torch import nn\n",
        "from torch import optim\n",
        "from torch.utils.data import Dataset, DataLoader, TensorDataset\n",
        "from torchvision import datasets, transforms"
      ],
      "metadata": {
        "id": "eLBhk4fct00H"
      },
      "execution_count": 106,
      "outputs": []
    },
    {
      "cell_type": "code",
      "source": [
        "df= pd.read_csv(r\"/content/drive/MyDrive/Colab Notebooks/Bank_Personal_Loan_Modelling.csv\")"
      ],
      "metadata": {
        "id": "4gqo26yuueCh"
      },
      "execution_count": 107,
      "outputs": []
    },
    {
      "cell_type": "markdown",
      "source": [
        "Columns of the dataset : \n",
        "* ID: Customer ID\n",
        "* Age: Customer Age\n",
        "* Experience: Amount of work experience in years\n",
        "* Income: Amount of annual income (in thousands)\n",
        "* Zipcode: Zipcode of where customer lives\n",
        "* Family: Number of family members\n",
        "* CCAvg: Average monthly credit card spendings\n",
        "* Education: Education level (1: Bachelor, 2: Master, 3: Advanced Degree)\n",
        "* Mortgage: Mortgage of house (in thousands)\n",
        "* Securities Account: Boolean of whether customer has a securities account\n",
        "* CD Account: Boolean of whether customer has Certificate of Deposit account\n",
        "* Online: Boolean of whether customer uses online banking\n",
        "* CreditCard: Does the customer use credit card issued by the bank?\n",
        "* Personal Loan: This is the target variable (Binary Classification Problem)"
      ],
      "metadata": {
        "id": "VAiH-H4uuuNm"
      }
    },
    {
      "cell_type": "markdown",
      "metadata": {
        "id": "8ee0b800"
      },
      "source": [
        "#### Data Cleaning and Feature Engineering"
      ]
    },
    {
      "cell_type": "code",
      "execution_count": 108,
      "metadata": {
        "id": "6aa8d55a"
      },
      "outputs": [],
      "source": [
        "# Deleting Columns which are not necessary\n",
        "df.drop([\"ID\"],axis=1,inplace=True)"
      ]
    },
    {
      "cell_type": "markdown",
      "source": [
        "## Train Test Split"
      ],
      "metadata": {
        "id": "HgeEuEIqwJzb"
      }
    },
    {
      "cell_type": "code",
      "source": [
        "df.shape"
      ],
      "metadata": {
        "colab": {
          "base_uri": "https://localhost:8080/"
        },
        "id": "iH88BNkqv6zi",
        "outputId": "02a87525-5b4a-458f-819a-306a874097da"
      },
      "execution_count": 109,
      "outputs": [
        {
          "output_type": "execute_result",
          "data": {
            "text/plain": [
              "(5000, 13)"
            ]
          },
          "metadata": {},
          "execution_count": 109
        }
      ]
    },
    {
      "cell_type": "code",
      "source": [
        "x = df.iloc[:,:-1].values\n",
        "y = df.iloc[:,-1].values"
      ],
      "metadata": {
        "id": "p8Ju-6TEwNe9"
      },
      "execution_count": 110,
      "outputs": []
    },
    {
      "cell_type": "code",
      "source": [
        "x_train,x_test,y_train,y_test = train_test_split(x, y, test_size=0.2, random_state=69)"
      ],
      "metadata": {
        "id": "OJhxXdIuwORT"
      },
      "execution_count": 111,
      "outputs": []
    },
    {
      "cell_type": "code",
      "source": [
        "sc = StandardScaler()\n",
        "x_train = sc.fit_transform(x_train)\n",
        "x_test = sc.transform(x_test)"
      ],
      "metadata": {
        "id": "xveATpblwKF1"
      },
      "execution_count": 112,
      "outputs": []
    },
    {
      "cell_type": "code",
      "source": [
        "x_train.shape, x_test.shape, y_train.shape, y_test.shape"
      ],
      "metadata": {
        "colab": {
          "base_uri": "https://localhost:8080/"
        },
        "id": "tmDMaa12wSzD",
        "outputId": "1b26efd6-d841-4ca0-e873-9d51e6955cf7"
      },
      "execution_count": 113,
      "outputs": [
        {
          "output_type": "execute_result",
          "data": {
            "text/plain": [
              "((4000, 12), (1000, 12), (4000,), (1000,))"
            ]
          },
          "metadata": {},
          "execution_count": 113
        }
      ]
    },
    {
      "cell_type": "markdown",
      "metadata": {
        "id": "c277b86d"
      },
      "source": [
        "# PyTorch "
      ]
    },
    {
      "cell_type": "code",
      "execution_count": 114,
      "metadata": {
        "id": "d1f1c3f1"
      },
      "outputs": [],
      "source": [
        "import torch\n",
        "from torch.utils.data import DataLoader, TensorDataset"
      ]
    },
    {
      "cell_type": "code",
      "execution_count": 115,
      "metadata": {
        "id": "5dd4e554"
      },
      "outputs": [],
      "source": [
        "BATCH_SIZE = 1"
      ]
    },
    {
      "cell_type": "code",
      "execution_count": 116,
      "metadata": {
        "id": "53b5e253"
      },
      "outputs": [],
      "source": [
        "train_x = torch.from_numpy(x_train).to(torch.float32)\n",
        "train_y = torch.from_numpy(y_train).to(torch.float32)"
      ]
    },
    {
      "cell_type": "code",
      "execution_count": 117,
      "metadata": {
        "colab": {
          "base_uri": "https://localhost:8080/"
        },
        "id": "a816e476",
        "outputId": "75e207f4-2bb5-4c65-f6bf-f6584127d869"
      },
      "outputs": [
        {
          "output_type": "execute_result",
          "data": {
            "text/plain": [
              "(torch.Size([4000, 12]), torch.Size([4000]))"
            ]
          },
          "metadata": {},
          "execution_count": 117
        }
      ],
      "source": [
        "train_x.shape, train_y.shape"
      ]
    },
    {
      "cell_type": "code",
      "execution_count": 118,
      "metadata": {
        "id": "83535d93"
      },
      "outputs": [],
      "source": [
        "data = TensorDataset(train_x,train_y)\n",
        "data = DataLoader(data,batch_size=BATCH_SIZE,shuffle=True)"
      ]
    },
    {
      "cell_type": "markdown",
      "metadata": {
        "id": "7f359adb"
      },
      "source": [
        "## Building Model"
      ]
    },
    {
      "cell_type": "code",
      "execution_count": 119,
      "metadata": {
        "id": "d4d0b641"
      },
      "outputs": [],
      "source": [
        "class NeuralNetwork(torch.nn.Module):\n",
        "    \n",
        "    def __init__(self):\n",
        "        super(NeuralNetwork,self).__init__()\n",
        "        \n",
        "        self.layer1 = torch.nn.Linear(12,16)\n",
        "        self.layer2 = torch.nn.Linear(16,8)\n",
        "        self.layer3 = torch.nn.Linear(8,1)\n",
        "        self.sigmoid = torch.nn.Sigmoid()\n",
        "        self.relu = torch.nn.ReLU()\n",
        "        \n",
        "    def forward(self, x):\n",
        "        x = self.layer1(x)\n",
        "        x = self.relu(x)\n",
        "        x = self.layer2(x)\n",
        "        x = self.relu(x)\n",
        "        x = self.layer3(x)\n",
        "        x = self.sigmoid(x)\n",
        "        return x"
      ]
    },
    {
      "cell_type": "markdown",
      "metadata": {
        "id": "ee75431f"
      },
      "source": [
        "# Weight Optimization using Particle Swarm Optimization"
      ]
    },
    {
      "cell_type": "code",
      "source": [
        "#pip install pyswarms"
      ],
      "metadata": {
        "id": "snAlhdYock-h"
      },
      "execution_count": 120,
      "outputs": []
    },
    {
      "cell_type": "code",
      "source": [
        "model = NeuralNetwork()\n",
        "torch.set_grad_enabled(False)\n",
        "param = np.concatenate([i.numpy().flatten() for i in model.parameters()])\n",
        "shape = [i.numpy().shape for i in model.parameters()]\n",
        "size = [i[0]*i[1] if len(i) == 2 else i[0] for i in shape]\n",
        "\n",
        "print(\"Dim : \", len(param))\n",
        "print(\"Layers Shape : \", shape)\n",
        "print(\"Layers Size : \", size)"
      ],
      "metadata": {
        "colab": {
          "base_uri": "https://localhost:8080/"
        },
        "id": "EJ_d-fTDhsGF",
        "outputId": "82194aa9-7415-4d1e-f55a-35d943069aaf"
      },
      "execution_count": 121,
      "outputs": [
        {
          "output_type": "stream",
          "name": "stdout",
          "text": [
            "Dim :  353\n",
            "Layers Shape :  [(16, 12), (16,), (8, 16), (8,), (1, 8), (1,)]\n",
            "Layers Size :  [192, 16, 128, 8, 8, 1]\n"
          ]
        }
      ]
    },
    {
      "cell_type": "code",
      "source": [
        "def objective_function(particle, model, train_x, train_y,shape = shape,size=size):\n",
        "    # Reshape the vector to weights and biases dimension\n",
        "    accuracy = []\n",
        "    output = []\n",
        "\n",
        "    for par in particle:\n",
        "      param = list()\n",
        "      cum_sum = 0\n",
        "      for i in range(len(size)):\n",
        "          array = particle[cum_sum : cum_sum + size[i]]\n",
        "          array = array.reshape(shape[i])\n",
        "          cum_sum += size[i]\n",
        "          param.append(array)\n",
        "      param = np.array(param, dtype=\"object\")\n",
        "      output.append(param)\n",
        "    \n",
        "    for i in range(len(output)):\n",
        "        # Copy Weights and Biases\n",
        "      model = NeuralNetwork()\n",
        "      for idx, wei in enumerate(model.parameters()):\n",
        "          wei.data = (torch.tensor(param[idx])).to(torch.float32)\n",
        "\n",
        "    # Calculate Accuracy\n",
        "    y_pred = model(train_x)\n",
        "    y_pred = torch.where(y_pred>=0.5, 1, 0).flatten()\n",
        "    acc = (y_pred == train_y).sum().float().item() / len(train_x)\n",
        "    accuracy = 1 - acc # Optimization function aims to reduce the cost so (1 - accuracy) \n",
        "    return accuracy"
      ],
      "metadata": {
        "id": "lmStuH-ScjOT"
      },
      "execution_count": 122,
      "outputs": []
    },
    {
      "cell_type": "code",
      "source": [
        "# Initialize the particles\n",
        "n_particles = 50\n",
        "dimensions = len(param)\n",
        "x_max = 1.0 * np.ones(dimensions)\n",
        "x_min = -1.0 * x_max\n",
        "bounds = (x_max,x_min)\n",
        "particles = np.random.uniform(low=x_min, high=x_max, size=(n_particles, dimensions))\n",
        "best_fitness = np.inf\n",
        "best_particle = None\n",
        "\n",
        "# Initialize the velocities\n",
        "v_max = 0.1 * (x_max - x_min)\n",
        "v_min = -v_max\n",
        "velocities = np.random.uniform(low=v_min, high=v_max, size=(n_particles, dimensions))\n",
        "\n",
        "# Set the PSO parameters\n",
        "c1 = 0.6\n",
        "c2 = 0.3\n",
        "w = 0.1\n",
        "\n",
        "# Run the PSO algorithm\n",
        "max_iter = 10\n",
        "for i in range(max_iter):\n",
        "    # Evaluate the fitness of the particles\n",
        "    fitness = np.array([objective_function(particles[j], model, train_x, train_y) for j in range(n_particles)])\n",
        "\n",
        "    # Update the global best\n",
        "    if np.min(fitness) < best_fitness:\n",
        "        best_fitness = np.min(fitness)\n",
        "        best_particle = particles[np.argmin(fitness)]\n",
        "\n",
        "    # Update the velocities and positions of the particles\n",
        "    r1 = np.random.uniform(size=(n_particles, dimensions))\n",
        "    r2 = np.random.uniform(size=(n_particles, dimensions))\n",
        "    vel = w * velocities + c1 * r1 * (particles - particles) + c2 * r2 * (best_particle - particles)\n",
        "    particles += vel\n",
        "\n",
        "    # Clip the positions to the bounds\n",
        "    particles = np.clip(particles, x_min, x_max)\n",
        "\n",
        "# Extract best_cost and best_parameter\n",
        "best_cost = best_fitness\n",
        "best_parameter = best_particle\n",
        "\n",
        "# Evaluate the performance of the best parameter\n",
        "best_accuracy = 1 - objective_function(best_parameter, model, train_x, train_y)\n",
        "print(f\"Best Cost : {best_cost}\\n Best Parameter : {best_parameter}\")\n",
        "print(f\"Best Parameter : {best_accuracy}\")"
      ],
      "metadata": {
        "id": "jpKQrlijctkd",
        "colab": {
          "base_uri": "https://localhost:8080/"
        },
        "outputId": "62c3f60f-916a-4b84-f4e8-35caee8a7e64"
      },
      "execution_count": 123,
      "outputs": [
        {
          "output_type": "stream",
          "name": "stdout",
          "text": [
            "Best Cost : 0.09075\n",
            " Best Parameter : [-0.59401019 -0.01699175  0.18700409  0.38477674 -0.04957273  0.30518702\n",
            " -0.34307036  0.01512405 -0.487528   -0.59442507 -0.57619161 -0.75362338\n",
            " -0.20619303 -0.16755069 -0.26370085  0.14251865  0.08035043 -0.41555627\n",
            "  0.80449172 -0.09222494 -0.6414535  -0.36190503  0.36468796  0.13265524\n",
            " -0.04739157 -0.17797701  0.30533657 -0.13779736 -0.19587841 -0.21033555\n",
            " -0.04767049 -0.02743238  0.01552382 -0.06655173 -0.43416052 -0.47661687\n",
            " -0.40128995 -0.00513083  0.55570843 -0.80153487  0.01156546  0.1365449\n",
            " -0.36535881 -0.31659334  0.3180034  -0.16857381 -0.49866742  0.10708761\n",
            " -0.62695691  0.96670232  0.4625531  -0.56669208  0.14303327  0.54627003\n",
            "  0.40771674  0.83249649 -0.66537521 -0.3571346   0.12324702 -0.41875508\n",
            " -0.36064119 -0.22199844 -0.19008116  0.61051555 -0.41088959 -0.48267637\n",
            "  0.08489716  0.05778405  0.4570001   0.0232404   0.44727717  0.62267433\n",
            "  0.43953895  0.13042214 -0.13898829  0.09998575 -0.18039817  0.81614313\n",
            "  0.12990161 -0.42773594  0.04657876 -0.11349199  0.13244279 -0.20199677\n",
            "  0.07029714 -0.34744     0.07965893 -0.46307709 -0.83394896  0.49120238\n",
            " -0.73595748  0.4127786   0.73093762  0.12050659 -0.42112895  0.07969469\n",
            " -0.42861872  0.01703289 -0.37743536  0.41591394  0.03108379 -0.4511151\n",
            " -0.17549547  0.51398993  0.4596685   0.28334277  0.27471515  0.27300238\n",
            "  0.51392809 -0.19293435  0.40719754  0.09873851  0.21778915 -0.32769372\n",
            " -0.09042093 -0.56248024  0.36739476  0.23741946 -0.29394775  0.09281053\n",
            " -0.23414523  0.22676904  0.3795354   0.43718696  0.48130585 -0.08229866\n",
            "  0.43277357 -0.59831543  0.3983863  -0.60224621  0.42731662  0.28627271\n",
            "  0.23380633  0.02006942  0.00417664 -0.27893984  0.33757425  0.01624901\n",
            " -0.52230177 -0.07569401  0.03831061  0.28099964  0.25023392  0.34634676\n",
            " -0.01027774  0.16237899  0.05278324 -0.1430486  -0.11406322 -0.05480275\n",
            " -0.22571373  0.0779904   0.00363153 -0.45763105  0.4156439   0.3649306\n",
            " -0.31567782 -0.42691586  0.73015716  0.31038851 -0.61244111  0.48863398\n",
            " -0.47384133 -0.46612281  0.19893542 -0.06028225 -0.40965277  0.76851968\n",
            " -0.00556578  0.04202142 -0.18960493 -0.53544911  0.120659    0.15573559\n",
            "  0.43883292 -0.08723424  0.01364389  0.01544645  0.06936467 -0.20793573\n",
            "  0.41935415  0.32823575 -0.54125527  0.19025441  0.01167748  0.41544496\n",
            " -0.34583782 -0.01138257  0.36028279 -0.43861246 -0.51683693 -0.08251031\n",
            " -0.31734683  0.42015667 -0.35027987 -0.32917015 -0.66963378  0.32078132\n",
            " -0.39764692 -0.14931201 -0.33797565 -0.23157323 -0.01838927  0.64869512\n",
            " -0.05230303  0.11969444  0.02968486 -0.30976356  0.31572469 -0.17221008\n",
            "  0.33155467 -0.18496578  0.5999398  -0.56642741 -0.16025705  0.11858693\n",
            " -0.50484726  0.40896326  0.86541761 -0.27090357  0.47540417 -0.25351704\n",
            " -0.16738828  0.36762716  0.2381659  -0.27416773  0.45504668  0.50037716\n",
            " -0.36440111  0.19043013 -0.57956599  0.91747391 -0.30872111 -0.34053716\n",
            " -0.36826757  0.34386343 -0.09140058 -0.15593527  0.0810937   0.35907472\n",
            "  0.07571497 -0.03014814  0.11256618 -0.13108612 -0.56200627  0.43565827\n",
            "  0.35355952 -0.71917354  0.43929181  0.20017632 -0.01292572  0.11321625\n",
            " -0.44309879  0.54207905 -0.23740142 -0.02545635  0.20669171  0.08026784\n",
            "  0.17871775  0.03234286 -0.42385703  0.00192694 -0.22556861  0.27115768\n",
            "  0.24680924 -0.35639568  0.16992494  0.52748012 -0.30292487  0.01217425\n",
            "  0.22405427  0.44513533  0.12341412 -0.54907479 -0.08947998 -0.17414985\n",
            "  0.21405213 -0.25515231  0.01562908  0.26262219  0.15131437  0.00653036\n",
            " -0.27113435  0.07321697  0.07821497 -0.04438732  0.11688837  0.28224583\n",
            " -0.37228803  0.10992335 -0.17370492  0.28005774 -0.51734475  0.16357694\n",
            "  0.20855701 -0.18637104  0.04918121 -0.25025771 -0.55883399  0.32309339\n",
            "  0.28797463  0.44921083  0.06853819  0.32407194  0.0776137   0.03003288\n",
            "  0.27698564  0.29047834  0.16075922 -0.09646323  0.09391967  0.19044153\n",
            "  0.59955971  0.21511391  0.10239893  0.74760134  0.05772606 -0.19657831\n",
            "  0.78152762 -0.228914    0.41896973  0.14096473  0.08938693 -0.15778533\n",
            " -0.30555966  0.34250407 -0.30537584  0.57236034 -0.28573208  0.88594929\n",
            "  0.47446091 -0.15857791  0.01865637 -0.39275303 -0.53751878  0.02882981\n",
            "  0.48180407  0.22931541 -0.23972008 -0.14460258 -0.71432222  0.63346583\n",
            "  0.79035481  0.38085486  0.48594434 -0.15926644 -0.1790699   0.46667644\n",
            " -0.54841959 -0.27438353 -0.46628377 -0.75452659 -0.09297147]\n",
            "Best Parameter : 0.91025\n"
          ]
        }
      ]
    },
    {
      "cell_type": "markdown",
      "metadata": {
        "id": "4636781e"
      },
      "source": [
        "## Testing "
      ]
    },
    {
      "cell_type": "code",
      "execution_count": 124,
      "metadata": {
        "id": "c8db78c1"
      },
      "outputs": [],
      "source": [
        "test_x = torch.from_numpy(x_test).to(torch.float32)\n",
        "test_y = torch.from_numpy(y_test).to(torch.float32)"
      ]
    },
    {
      "cell_type": "code",
      "execution_count": 125,
      "metadata": {
        "id": "d6fcfda7"
      },
      "outputs": [],
      "source": [
        "test = TensorDataset(test_x,test_y)\n",
        "test = DataLoader(test,batch_size=1)"
      ]
    },
    {
      "cell_type": "markdown",
      "metadata": {
        "id": "9b4fa006"
      },
      "source": [
        "### Classification Report"
      ]
    },
    {
      "cell_type": "code",
      "source": [
        "best_model = NeuralNetwork()"
      ],
      "metadata": {
        "id": "5EtvQZj7kJ9_"
      },
      "execution_count": 126,
      "outputs": []
    },
    {
      "cell_type": "code",
      "execution_count": 127,
      "metadata": {
        "id": "b97279cb",
        "colab": {
          "base_uri": "https://localhost:8080/"
        },
        "outputId": "eea0f1bb-e867-4b5b-cdac-19567e6ac5e3"
      },
      "outputs": [
        {
          "output_type": "stream",
          "name": "stdout",
          "text": [
            "              precision    recall  f1-score   support\n",
            "\n",
            "         0.0       1.00      0.91      0.95      1000\n",
            "         1.0       0.00      0.00      0.00         0\n",
            "\n",
            "    accuracy                           0.91      1000\n",
            "   macro avg       0.50      0.45      0.48      1000\n",
            "weighted avg       1.00      0.91      0.95      1000\n",
            "\n"
          ]
        },
        {
          "output_type": "stream",
          "name": "stderr",
          "text": [
            "/usr/local/lib/python3.9/dist-packages/sklearn/metrics/_classification.py:1344: UndefinedMetricWarning: Recall and F-score are ill-defined and being set to 0.0 in labels with no true samples. Use `zero_division` parameter to control this behavior.\n",
            "  _warn_prf(average, modifier, msg_start, len(result))\n",
            "/usr/local/lib/python3.9/dist-packages/sklearn/metrics/_classification.py:1344: UndefinedMetricWarning: Recall and F-score are ill-defined and being set to 0.0 in labels with no true samples. Use `zero_division` parameter to control this behavior.\n",
            "  _warn_prf(average, modifier, msg_start, len(result))\n",
            "/usr/local/lib/python3.9/dist-packages/sklearn/metrics/_classification.py:1344: UndefinedMetricWarning: Recall and F-score are ill-defined and being set to 0.0 in labels with no true samples. Use `zero_division` parameter to control this behavior.\n",
            "  _warn_prf(average, modifier, msg_start, len(result))\n"
          ]
        }
      ],
      "source": [
        "y_pred = best_model(test_x)\n",
        "y_pred = torch.where(y_pred>=0.5, 1, 0).flatten()\n",
        "print(classification_report(y_pred,test_y))"
      ]
    }
  ]
}