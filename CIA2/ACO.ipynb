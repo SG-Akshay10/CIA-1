{
  "nbformat": 4,
  "nbformat_minor": 0,
  "metadata": {
    "colab": {
      "provenance": []
    },
    "kernelspec": {
      "name": "python3",
      "display_name": "Python 3"
    },
    "language_info": {
      "name": "python"
    }
  },
  "cells": [
    {
      "cell_type": "markdown",
      "source": [
        "##  **Design and Analysis of Algorithms - CIA 2**"
      ],
      "metadata": {
        "id": "Sgbh9opXuQyi"
      }
    },
    {
      "cell_type": "markdown",
      "source": [
        "### **Question**: \n",
        "Design a neural network (the choice of implementation model can be pytorch, tensorflow or the whitebox model) for the data set shared in the ML lab assignment for neural networks. \n",
        "\n",
        "* Develop individual code base using following algorithms for weight optimization:\n",
        "1.\tGenetic Algorithm\n",
        "2.\tCultural Algorithm\n",
        "3.\tParticle Swarm Optimization\n",
        "4.\tAnt Colony Optimization\n",
        "* \n",
        "Data to be uploaded to github\n",
        "1.\tNote on the comparison of performance for the four methods. \n",
        "2.\tThe codebase for all four methods \n",
        "3.\tThe research papers that you have referred to.\n",
        "\n"
      ],
      "metadata": {
        "id": "GMwDpLfQuAXh"
      }
    },
    {
      "cell_type": "markdown",
      "source": [
        "### Dependencies and Dataset"
      ],
      "metadata": {
        "id": "Az9-oaE7uKQr"
      }
    },
    {
      "cell_type": "code",
      "execution_count": 192,
      "metadata": {
        "id": "MYKk01BDtVvM"
      },
      "outputs": [],
      "source": [
        "import pandas as pd\n",
        "import matplotlib.pyplot as plt\n",
        "import numpy as np\n",
        "import seaborn as sns\n",
        "import matplotlib.pyplot as plt\n",
        "import random\n",
        "from sklearn.metrics import classification_report"
      ]
    },
    {
      "cell_type": "code",
      "source": [
        "import tensorflow as tf\n",
        "from tensorflow import keras\n",
        "from tensorflow.keras.layers import Dense, Activation, Dropout\n",
        "from tensorflow.keras.optimizers import Adam\n",
        "from tensorflow.keras.metrics import Accuracy\n",
        "from tensorflow.keras.utils import to_categorical"
      ],
      "metadata": {
        "id": "dEtH4eNutoEv"
      },
      "execution_count": 193,
      "outputs": []
    },
    {
      "cell_type": "code",
      "source": [
        "from sklearn import metrics\n",
        "from sklearn.preprocessing import StandardScaler, MinMaxScaler\n",
        "from sklearn.model_selection import train_test_split\n",
        "from sklearn.metrics import classification_report\n",
        "from sklearn.preprocessing import StandardScaler"
      ],
      "metadata": {
        "id": "fhHuBB7Zty-S"
      },
      "execution_count": 194,
      "outputs": []
    },
    {
      "cell_type": "code",
      "source": [
        "import os\n",
        "import torch\n",
        "from torch import nn\n",
        "from torch import optim\n",
        "from torch.utils.data import Dataset, DataLoader, TensorDataset\n",
        "from torchvision import datasets, transforms"
      ],
      "metadata": {
        "id": "eLBhk4fct00H"
      },
      "execution_count": 195,
      "outputs": []
    },
    {
      "cell_type": "code",
      "source": [
        "data = pd.read_csv(r\"/content/drive/MyDrive/Colab Notebooks/Bank_Personal_Loan_Modelling.csv\")"
      ],
      "metadata": {
        "id": "4gqo26yuueCh"
      },
      "execution_count": 196,
      "outputs": []
    },
    {
      "cell_type": "markdown",
      "source": [
        "Columns of the dataset : \n",
        "* ID: Customer ID\n",
        "* Age: Customer Age\n",
        "* Experience: Amount of work experience in years\n",
        "* Income: Amount of annual income (in thousands)\n",
        "* Zipcode: Zipcode of where customer lives\n",
        "* Family: Number of family members\n",
        "* CCAvg: Average monthly credit card spendings\n",
        "* Education: Education level (1: Bachelor, 2: Master, 3: Advanced Degree)\n",
        "* Mortgage: Mortgage of house (in thousands)\n",
        "* Securities Account: Boolean of whether customer has a securities account\n",
        "* CD Account: Boolean of whether customer has Certificate of Deposit account\n",
        "* Online: Boolean of whether customer uses online banking\n",
        "* CreditCard: Does the customer use credit card issued by the bank?\n",
        "* Personal Loan: This is the target variable (Binary Classification Problem)"
      ],
      "metadata": {
        "id": "VAiH-H4uuuNm"
      }
    },
    {
      "cell_type": "code",
      "source": [
        "# We can drop the column Customer ID as they do not help us in the prediction.\n",
        "df = data.drop(columns=[\"ID\"],axis=1)\n",
        "df"
      ],
      "metadata": {
        "colab": {
          "base_uri": "https://localhost:8080/",
          "height": 505
        },
        "id": "4ZQtBcsPuvxA",
        "outputId": "4d22b49d-abd9-40fc-b52d-d17153cdbecc"
      },
      "execution_count": 197,
      "outputs": [
        {
          "output_type": "execute_result",
          "data": {
            "text/plain": [
              "      Age  Experience  Income  ZIP Code  Family  CCAvg  Education  Mortgage  \\\n",
              "0      25           1      49     91107       4    1.6          1         0   \n",
              "1      45          19      34     90089       3    1.5          1         0   \n",
              "2      39          15      11     94720       1    1.0          1         0   \n",
              "3      35           9     100     94112       1    2.7          2         0   \n",
              "4      35           8      45     91330       4    1.0          2         0   \n",
              "...   ...         ...     ...       ...     ...    ...        ...       ...   \n",
              "4995   29           3      40     92697       1    1.9          3         0   \n",
              "4996   30           4      15     92037       4    0.4          1        85   \n",
              "4997   63          39      24     93023       2    0.3          3         0   \n",
              "4998   65          40      49     90034       3    0.5          2         0   \n",
              "4999   28           4      83     92612       3    0.8          1         0   \n",
              "\n",
              "      Securities Account  CD Account  Online  CreditCard  Personal Loan  \n",
              "0                      1           0       0           0              0  \n",
              "1                      1           0       0           0              0  \n",
              "2                      0           0       0           0              0  \n",
              "3                      0           0       0           0              0  \n",
              "4                      0           0       0           1              0  \n",
              "...                  ...         ...     ...         ...            ...  \n",
              "4995                   0           0       1           0              0  \n",
              "4996                   0           0       1           0              0  \n",
              "4997                   0           0       0           0              0  \n",
              "4998                   0           0       1           0              0  \n",
              "4999                   0           0       1           1              0  \n",
              "\n",
              "[5000 rows x 13 columns]"
            ],
            "text/html": [
              "\n",
              "  <div id=\"df-0ca5ef9c-e2c6-4085-a093-30ffbe16a941\">\n",
              "    <div class=\"colab-df-container\">\n",
              "      <div>\n",
              "<style scoped>\n",
              "    .dataframe tbody tr th:only-of-type {\n",
              "        vertical-align: middle;\n",
              "    }\n",
              "\n",
              "    .dataframe tbody tr th {\n",
              "        vertical-align: top;\n",
              "    }\n",
              "\n",
              "    .dataframe thead th {\n",
              "        text-align: right;\n",
              "    }\n",
              "</style>\n",
              "<table border=\"1\" class=\"dataframe\">\n",
              "  <thead>\n",
              "    <tr style=\"text-align: right;\">\n",
              "      <th></th>\n",
              "      <th>Age</th>\n",
              "      <th>Experience</th>\n",
              "      <th>Income</th>\n",
              "      <th>ZIP Code</th>\n",
              "      <th>Family</th>\n",
              "      <th>CCAvg</th>\n",
              "      <th>Education</th>\n",
              "      <th>Mortgage</th>\n",
              "      <th>Securities Account</th>\n",
              "      <th>CD Account</th>\n",
              "      <th>Online</th>\n",
              "      <th>CreditCard</th>\n",
              "      <th>Personal Loan</th>\n",
              "    </tr>\n",
              "  </thead>\n",
              "  <tbody>\n",
              "    <tr>\n",
              "      <th>0</th>\n",
              "      <td>25</td>\n",
              "      <td>1</td>\n",
              "      <td>49</td>\n",
              "      <td>91107</td>\n",
              "      <td>4</td>\n",
              "      <td>1.6</td>\n",
              "      <td>1</td>\n",
              "      <td>0</td>\n",
              "      <td>1</td>\n",
              "      <td>0</td>\n",
              "      <td>0</td>\n",
              "      <td>0</td>\n",
              "      <td>0</td>\n",
              "    </tr>\n",
              "    <tr>\n",
              "      <th>1</th>\n",
              "      <td>45</td>\n",
              "      <td>19</td>\n",
              "      <td>34</td>\n",
              "      <td>90089</td>\n",
              "      <td>3</td>\n",
              "      <td>1.5</td>\n",
              "      <td>1</td>\n",
              "      <td>0</td>\n",
              "      <td>1</td>\n",
              "      <td>0</td>\n",
              "      <td>0</td>\n",
              "      <td>0</td>\n",
              "      <td>0</td>\n",
              "    </tr>\n",
              "    <tr>\n",
              "      <th>2</th>\n",
              "      <td>39</td>\n",
              "      <td>15</td>\n",
              "      <td>11</td>\n",
              "      <td>94720</td>\n",
              "      <td>1</td>\n",
              "      <td>1.0</td>\n",
              "      <td>1</td>\n",
              "      <td>0</td>\n",
              "      <td>0</td>\n",
              "      <td>0</td>\n",
              "      <td>0</td>\n",
              "      <td>0</td>\n",
              "      <td>0</td>\n",
              "    </tr>\n",
              "    <tr>\n",
              "      <th>3</th>\n",
              "      <td>35</td>\n",
              "      <td>9</td>\n",
              "      <td>100</td>\n",
              "      <td>94112</td>\n",
              "      <td>1</td>\n",
              "      <td>2.7</td>\n",
              "      <td>2</td>\n",
              "      <td>0</td>\n",
              "      <td>0</td>\n",
              "      <td>0</td>\n",
              "      <td>0</td>\n",
              "      <td>0</td>\n",
              "      <td>0</td>\n",
              "    </tr>\n",
              "    <tr>\n",
              "      <th>4</th>\n",
              "      <td>35</td>\n",
              "      <td>8</td>\n",
              "      <td>45</td>\n",
              "      <td>91330</td>\n",
              "      <td>4</td>\n",
              "      <td>1.0</td>\n",
              "      <td>2</td>\n",
              "      <td>0</td>\n",
              "      <td>0</td>\n",
              "      <td>0</td>\n",
              "      <td>0</td>\n",
              "      <td>1</td>\n",
              "      <td>0</td>\n",
              "    </tr>\n",
              "    <tr>\n",
              "      <th>...</th>\n",
              "      <td>...</td>\n",
              "      <td>...</td>\n",
              "      <td>...</td>\n",
              "      <td>...</td>\n",
              "      <td>...</td>\n",
              "      <td>...</td>\n",
              "      <td>...</td>\n",
              "      <td>...</td>\n",
              "      <td>...</td>\n",
              "      <td>...</td>\n",
              "      <td>...</td>\n",
              "      <td>...</td>\n",
              "      <td>...</td>\n",
              "    </tr>\n",
              "    <tr>\n",
              "      <th>4995</th>\n",
              "      <td>29</td>\n",
              "      <td>3</td>\n",
              "      <td>40</td>\n",
              "      <td>92697</td>\n",
              "      <td>1</td>\n",
              "      <td>1.9</td>\n",
              "      <td>3</td>\n",
              "      <td>0</td>\n",
              "      <td>0</td>\n",
              "      <td>0</td>\n",
              "      <td>1</td>\n",
              "      <td>0</td>\n",
              "      <td>0</td>\n",
              "    </tr>\n",
              "    <tr>\n",
              "      <th>4996</th>\n",
              "      <td>30</td>\n",
              "      <td>4</td>\n",
              "      <td>15</td>\n",
              "      <td>92037</td>\n",
              "      <td>4</td>\n",
              "      <td>0.4</td>\n",
              "      <td>1</td>\n",
              "      <td>85</td>\n",
              "      <td>0</td>\n",
              "      <td>0</td>\n",
              "      <td>1</td>\n",
              "      <td>0</td>\n",
              "      <td>0</td>\n",
              "    </tr>\n",
              "    <tr>\n",
              "      <th>4997</th>\n",
              "      <td>63</td>\n",
              "      <td>39</td>\n",
              "      <td>24</td>\n",
              "      <td>93023</td>\n",
              "      <td>2</td>\n",
              "      <td>0.3</td>\n",
              "      <td>3</td>\n",
              "      <td>0</td>\n",
              "      <td>0</td>\n",
              "      <td>0</td>\n",
              "      <td>0</td>\n",
              "      <td>0</td>\n",
              "      <td>0</td>\n",
              "    </tr>\n",
              "    <tr>\n",
              "      <th>4998</th>\n",
              "      <td>65</td>\n",
              "      <td>40</td>\n",
              "      <td>49</td>\n",
              "      <td>90034</td>\n",
              "      <td>3</td>\n",
              "      <td>0.5</td>\n",
              "      <td>2</td>\n",
              "      <td>0</td>\n",
              "      <td>0</td>\n",
              "      <td>0</td>\n",
              "      <td>1</td>\n",
              "      <td>0</td>\n",
              "      <td>0</td>\n",
              "    </tr>\n",
              "    <tr>\n",
              "      <th>4999</th>\n",
              "      <td>28</td>\n",
              "      <td>4</td>\n",
              "      <td>83</td>\n",
              "      <td>92612</td>\n",
              "      <td>3</td>\n",
              "      <td>0.8</td>\n",
              "      <td>1</td>\n",
              "      <td>0</td>\n",
              "      <td>0</td>\n",
              "      <td>0</td>\n",
              "      <td>1</td>\n",
              "      <td>1</td>\n",
              "      <td>0</td>\n",
              "    </tr>\n",
              "  </tbody>\n",
              "</table>\n",
              "<p>5000 rows × 13 columns</p>\n",
              "</div>\n",
              "      <button class=\"colab-df-convert\" onclick=\"convertToInteractive('df-0ca5ef9c-e2c6-4085-a093-30ffbe16a941')\"\n",
              "              title=\"Convert this dataframe to an interactive table.\"\n",
              "              style=\"display:none;\">\n",
              "        \n",
              "  <svg xmlns=\"http://www.w3.org/2000/svg\" height=\"24px\"viewBox=\"0 0 24 24\"\n",
              "       width=\"24px\">\n",
              "    <path d=\"M0 0h24v24H0V0z\" fill=\"none\"/>\n",
              "    <path d=\"M18.56 5.44l.94 2.06.94-2.06 2.06-.94-2.06-.94-.94-2.06-.94 2.06-2.06.94zm-11 1L8.5 8.5l.94-2.06 2.06-.94-2.06-.94L8.5 2.5l-.94 2.06-2.06.94zm10 10l.94 2.06.94-2.06 2.06-.94-2.06-.94-.94-2.06-.94 2.06-2.06.94z\"/><path d=\"M17.41 7.96l-1.37-1.37c-.4-.4-.92-.59-1.43-.59-.52 0-1.04.2-1.43.59L10.3 9.45l-7.72 7.72c-.78.78-.78 2.05 0 2.83L4 21.41c.39.39.9.59 1.41.59.51 0 1.02-.2 1.41-.59l7.78-7.78 2.81-2.81c.8-.78.8-2.07 0-2.86zM5.41 20L4 18.59l7.72-7.72 1.47 1.35L5.41 20z\"/>\n",
              "  </svg>\n",
              "      </button>\n",
              "      \n",
              "  <style>\n",
              "    .colab-df-container {\n",
              "      display:flex;\n",
              "      flex-wrap:wrap;\n",
              "      gap: 12px;\n",
              "    }\n",
              "\n",
              "    .colab-df-convert {\n",
              "      background-color: #E8F0FE;\n",
              "      border: none;\n",
              "      border-radius: 50%;\n",
              "      cursor: pointer;\n",
              "      display: none;\n",
              "      fill: #1967D2;\n",
              "      height: 32px;\n",
              "      padding: 0 0 0 0;\n",
              "      width: 32px;\n",
              "    }\n",
              "\n",
              "    .colab-df-convert:hover {\n",
              "      background-color: #E2EBFA;\n",
              "      box-shadow: 0px 1px 2px rgba(60, 64, 67, 0.3), 0px 1px 3px 1px rgba(60, 64, 67, 0.15);\n",
              "      fill: #174EA6;\n",
              "    }\n",
              "\n",
              "    [theme=dark] .colab-df-convert {\n",
              "      background-color: #3B4455;\n",
              "      fill: #D2E3FC;\n",
              "    }\n",
              "\n",
              "    [theme=dark] .colab-df-convert:hover {\n",
              "      background-color: #434B5C;\n",
              "      box-shadow: 0px 1px 3px 1px rgba(0, 0, 0, 0.15);\n",
              "      filter: drop-shadow(0px 1px 2px rgba(0, 0, 0, 0.3));\n",
              "      fill: #FFFFFF;\n",
              "    }\n",
              "  </style>\n",
              "\n",
              "      <script>\n",
              "        const buttonEl =\n",
              "          document.querySelector('#df-0ca5ef9c-e2c6-4085-a093-30ffbe16a941 button.colab-df-convert');\n",
              "        buttonEl.style.display =\n",
              "          google.colab.kernel.accessAllowed ? 'block' : 'none';\n",
              "\n",
              "        async function convertToInteractive(key) {\n",
              "          const element = document.querySelector('#df-0ca5ef9c-e2c6-4085-a093-30ffbe16a941');\n",
              "          const dataTable =\n",
              "            await google.colab.kernel.invokeFunction('convertToInteractive',\n",
              "                                                     [key], {});\n",
              "          if (!dataTable) return;\n",
              "\n",
              "          const docLinkHtml = 'Like what you see? Visit the ' +\n",
              "            '<a target=\"_blank\" href=https://colab.research.google.com/notebooks/data_table.ipynb>data table notebook</a>'\n",
              "            + ' to learn more about interactive tables.';\n",
              "          element.innerHTML = '';\n",
              "          dataTable['output_type'] = 'display_data';\n",
              "          await google.colab.output.renderOutput(dataTable, element);\n",
              "          const docLink = document.createElement('div');\n",
              "          docLink.innerHTML = docLinkHtml;\n",
              "          element.appendChild(docLink);\n",
              "        }\n",
              "      </script>\n",
              "    </div>\n",
              "  </div>\n",
              "  "
            ]
          },
          "metadata": {},
          "execution_count": 197
        }
      ]
    },
    {
      "cell_type": "markdown",
      "source": [
        "## Exploratory Data Analysis"
      ],
      "metadata": {
        "id": "YpfsHJzgvhea"
      }
    },
    {
      "cell_type": "code",
      "source": [
        "df.info()"
      ],
      "metadata": {
        "colab": {
          "base_uri": "https://localhost:8080/"
        },
        "id": "hvl8N2LbviPx",
        "outputId": "e3522280-c341-4dd6-d619-585880af1c49"
      },
      "execution_count": 198,
      "outputs": [
        {
          "output_type": "stream",
          "name": "stdout",
          "text": [
            "<class 'pandas.core.frame.DataFrame'>\n",
            "RangeIndex: 5000 entries, 0 to 4999\n",
            "Data columns (total 13 columns):\n",
            " #   Column              Non-Null Count  Dtype  \n",
            "---  ------              --------------  -----  \n",
            " 0   Age                 5000 non-null   int64  \n",
            " 1   Experience          5000 non-null   int64  \n",
            " 2   Income              5000 non-null   int64  \n",
            " 3   ZIP Code            5000 non-null   int64  \n",
            " 4   Family              5000 non-null   int64  \n",
            " 5   CCAvg               5000 non-null   float64\n",
            " 6   Education           5000 non-null   int64  \n",
            " 7   Mortgage            5000 non-null   int64  \n",
            " 8   Securities Account  5000 non-null   int64  \n",
            " 9   CD Account          5000 non-null   int64  \n",
            " 10  Online              5000 non-null   int64  \n",
            " 11  CreditCard          5000 non-null   int64  \n",
            " 12  Personal Loan       5000 non-null   int64  \n",
            "dtypes: float64(1), int64(12)\n",
            "memory usage: 507.9 KB\n"
          ]
        }
      ]
    },
    {
      "cell_type": "code",
      "source": [
        "df.describe().transpose()"
      ],
      "metadata": {
        "colab": {
          "base_uri": "https://localhost:8080/",
          "height": 457
        },
        "id": "IELbzlr2vjw4",
        "outputId": "c4f3dc81-2f5e-4d02-ad66-d9e310bfd27b"
      },
      "execution_count": 199,
      "outputs": [
        {
          "output_type": "execute_result",
          "data": {
            "text/plain": [
              "                     count          mean          std     min      25%  \\\n",
              "Age                 5000.0     45.338400    11.463166    23.0     35.0   \n",
              "Experience          5000.0     20.104600    11.467954    -3.0     10.0   \n",
              "Income              5000.0     73.774200    46.033729     8.0     39.0   \n",
              "ZIP Code            5000.0  93152.503000  2121.852197  9307.0  91911.0   \n",
              "Family              5000.0      2.396400     1.147663     1.0      1.0   \n",
              "CCAvg               5000.0      1.937938     1.747659     0.0      0.7   \n",
              "Education           5000.0      1.881000     0.839869     1.0      1.0   \n",
              "Mortgage            5000.0     56.498800   101.713802     0.0      0.0   \n",
              "Securities Account  5000.0      0.104400     0.305809     0.0      0.0   \n",
              "CD Account          5000.0      0.060400     0.238250     0.0      0.0   \n",
              "Online              5000.0      0.596800     0.490589     0.0      0.0   \n",
              "CreditCard          5000.0      0.294000     0.455637     0.0      0.0   \n",
              "Personal Loan       5000.0      0.096000     0.294621     0.0      0.0   \n",
              "\n",
              "                        50%      75%      max  \n",
              "Age                    45.0     55.0     67.0  \n",
              "Experience             20.0     30.0     43.0  \n",
              "Income                 64.0     98.0    224.0  \n",
              "ZIP Code            93437.0  94608.0  96651.0  \n",
              "Family                  2.0      3.0      4.0  \n",
              "CCAvg                   1.5      2.5     10.0  \n",
              "Education               2.0      3.0      3.0  \n",
              "Mortgage                0.0    101.0    635.0  \n",
              "Securities Account      0.0      0.0      1.0  \n",
              "CD Account              0.0      0.0      1.0  \n",
              "Online                  1.0      1.0      1.0  \n",
              "CreditCard              0.0      1.0      1.0  \n",
              "Personal Loan           0.0      0.0      1.0  "
            ],
            "text/html": [
              "\n",
              "  <div id=\"df-31cf0e2d-c490-4953-996d-bed59ce9555f\">\n",
              "    <div class=\"colab-df-container\">\n",
              "      <div>\n",
              "<style scoped>\n",
              "    .dataframe tbody tr th:only-of-type {\n",
              "        vertical-align: middle;\n",
              "    }\n",
              "\n",
              "    .dataframe tbody tr th {\n",
              "        vertical-align: top;\n",
              "    }\n",
              "\n",
              "    .dataframe thead th {\n",
              "        text-align: right;\n",
              "    }\n",
              "</style>\n",
              "<table border=\"1\" class=\"dataframe\">\n",
              "  <thead>\n",
              "    <tr style=\"text-align: right;\">\n",
              "      <th></th>\n",
              "      <th>count</th>\n",
              "      <th>mean</th>\n",
              "      <th>std</th>\n",
              "      <th>min</th>\n",
              "      <th>25%</th>\n",
              "      <th>50%</th>\n",
              "      <th>75%</th>\n",
              "      <th>max</th>\n",
              "    </tr>\n",
              "  </thead>\n",
              "  <tbody>\n",
              "    <tr>\n",
              "      <th>Age</th>\n",
              "      <td>5000.0</td>\n",
              "      <td>45.338400</td>\n",
              "      <td>11.463166</td>\n",
              "      <td>23.0</td>\n",
              "      <td>35.0</td>\n",
              "      <td>45.0</td>\n",
              "      <td>55.0</td>\n",
              "      <td>67.0</td>\n",
              "    </tr>\n",
              "    <tr>\n",
              "      <th>Experience</th>\n",
              "      <td>5000.0</td>\n",
              "      <td>20.104600</td>\n",
              "      <td>11.467954</td>\n",
              "      <td>-3.0</td>\n",
              "      <td>10.0</td>\n",
              "      <td>20.0</td>\n",
              "      <td>30.0</td>\n",
              "      <td>43.0</td>\n",
              "    </tr>\n",
              "    <tr>\n",
              "      <th>Income</th>\n",
              "      <td>5000.0</td>\n",
              "      <td>73.774200</td>\n",
              "      <td>46.033729</td>\n",
              "      <td>8.0</td>\n",
              "      <td>39.0</td>\n",
              "      <td>64.0</td>\n",
              "      <td>98.0</td>\n",
              "      <td>224.0</td>\n",
              "    </tr>\n",
              "    <tr>\n",
              "      <th>ZIP Code</th>\n",
              "      <td>5000.0</td>\n",
              "      <td>93152.503000</td>\n",
              "      <td>2121.852197</td>\n",
              "      <td>9307.0</td>\n",
              "      <td>91911.0</td>\n",
              "      <td>93437.0</td>\n",
              "      <td>94608.0</td>\n",
              "      <td>96651.0</td>\n",
              "    </tr>\n",
              "    <tr>\n",
              "      <th>Family</th>\n",
              "      <td>5000.0</td>\n",
              "      <td>2.396400</td>\n",
              "      <td>1.147663</td>\n",
              "      <td>1.0</td>\n",
              "      <td>1.0</td>\n",
              "      <td>2.0</td>\n",
              "      <td>3.0</td>\n",
              "      <td>4.0</td>\n",
              "    </tr>\n",
              "    <tr>\n",
              "      <th>CCAvg</th>\n",
              "      <td>5000.0</td>\n",
              "      <td>1.937938</td>\n",
              "      <td>1.747659</td>\n",
              "      <td>0.0</td>\n",
              "      <td>0.7</td>\n",
              "      <td>1.5</td>\n",
              "      <td>2.5</td>\n",
              "      <td>10.0</td>\n",
              "    </tr>\n",
              "    <tr>\n",
              "      <th>Education</th>\n",
              "      <td>5000.0</td>\n",
              "      <td>1.881000</td>\n",
              "      <td>0.839869</td>\n",
              "      <td>1.0</td>\n",
              "      <td>1.0</td>\n",
              "      <td>2.0</td>\n",
              "      <td>3.0</td>\n",
              "      <td>3.0</td>\n",
              "    </tr>\n",
              "    <tr>\n",
              "      <th>Mortgage</th>\n",
              "      <td>5000.0</td>\n",
              "      <td>56.498800</td>\n",
              "      <td>101.713802</td>\n",
              "      <td>0.0</td>\n",
              "      <td>0.0</td>\n",
              "      <td>0.0</td>\n",
              "      <td>101.0</td>\n",
              "      <td>635.0</td>\n",
              "    </tr>\n",
              "    <tr>\n",
              "      <th>Securities Account</th>\n",
              "      <td>5000.0</td>\n",
              "      <td>0.104400</td>\n",
              "      <td>0.305809</td>\n",
              "      <td>0.0</td>\n",
              "      <td>0.0</td>\n",
              "      <td>0.0</td>\n",
              "      <td>0.0</td>\n",
              "      <td>1.0</td>\n",
              "    </tr>\n",
              "    <tr>\n",
              "      <th>CD Account</th>\n",
              "      <td>5000.0</td>\n",
              "      <td>0.060400</td>\n",
              "      <td>0.238250</td>\n",
              "      <td>0.0</td>\n",
              "      <td>0.0</td>\n",
              "      <td>0.0</td>\n",
              "      <td>0.0</td>\n",
              "      <td>1.0</td>\n",
              "    </tr>\n",
              "    <tr>\n",
              "      <th>Online</th>\n",
              "      <td>5000.0</td>\n",
              "      <td>0.596800</td>\n",
              "      <td>0.490589</td>\n",
              "      <td>0.0</td>\n",
              "      <td>0.0</td>\n",
              "      <td>1.0</td>\n",
              "      <td>1.0</td>\n",
              "      <td>1.0</td>\n",
              "    </tr>\n",
              "    <tr>\n",
              "      <th>CreditCard</th>\n",
              "      <td>5000.0</td>\n",
              "      <td>0.294000</td>\n",
              "      <td>0.455637</td>\n",
              "      <td>0.0</td>\n",
              "      <td>0.0</td>\n",
              "      <td>0.0</td>\n",
              "      <td>1.0</td>\n",
              "      <td>1.0</td>\n",
              "    </tr>\n",
              "    <tr>\n",
              "      <th>Personal Loan</th>\n",
              "      <td>5000.0</td>\n",
              "      <td>0.096000</td>\n",
              "      <td>0.294621</td>\n",
              "      <td>0.0</td>\n",
              "      <td>0.0</td>\n",
              "      <td>0.0</td>\n",
              "      <td>0.0</td>\n",
              "      <td>1.0</td>\n",
              "    </tr>\n",
              "  </tbody>\n",
              "</table>\n",
              "</div>\n",
              "      <button class=\"colab-df-convert\" onclick=\"convertToInteractive('df-31cf0e2d-c490-4953-996d-bed59ce9555f')\"\n",
              "              title=\"Convert this dataframe to an interactive table.\"\n",
              "              style=\"display:none;\">\n",
              "        \n",
              "  <svg xmlns=\"http://www.w3.org/2000/svg\" height=\"24px\"viewBox=\"0 0 24 24\"\n",
              "       width=\"24px\">\n",
              "    <path d=\"M0 0h24v24H0V0z\" fill=\"none\"/>\n",
              "    <path d=\"M18.56 5.44l.94 2.06.94-2.06 2.06-.94-2.06-.94-.94-2.06-.94 2.06-2.06.94zm-11 1L8.5 8.5l.94-2.06 2.06-.94-2.06-.94L8.5 2.5l-.94 2.06-2.06.94zm10 10l.94 2.06.94-2.06 2.06-.94-2.06-.94-.94-2.06-.94 2.06-2.06.94z\"/><path d=\"M17.41 7.96l-1.37-1.37c-.4-.4-.92-.59-1.43-.59-.52 0-1.04.2-1.43.59L10.3 9.45l-7.72 7.72c-.78.78-.78 2.05 0 2.83L4 21.41c.39.39.9.59 1.41.59.51 0 1.02-.2 1.41-.59l7.78-7.78 2.81-2.81c.8-.78.8-2.07 0-2.86zM5.41 20L4 18.59l7.72-7.72 1.47 1.35L5.41 20z\"/>\n",
              "  </svg>\n",
              "      </button>\n",
              "      \n",
              "  <style>\n",
              "    .colab-df-container {\n",
              "      display:flex;\n",
              "      flex-wrap:wrap;\n",
              "      gap: 12px;\n",
              "    }\n",
              "\n",
              "    .colab-df-convert {\n",
              "      background-color: #E8F0FE;\n",
              "      border: none;\n",
              "      border-radius: 50%;\n",
              "      cursor: pointer;\n",
              "      display: none;\n",
              "      fill: #1967D2;\n",
              "      height: 32px;\n",
              "      padding: 0 0 0 0;\n",
              "      width: 32px;\n",
              "    }\n",
              "\n",
              "    .colab-df-convert:hover {\n",
              "      background-color: #E2EBFA;\n",
              "      box-shadow: 0px 1px 2px rgba(60, 64, 67, 0.3), 0px 1px 3px 1px rgba(60, 64, 67, 0.15);\n",
              "      fill: #174EA6;\n",
              "    }\n",
              "\n",
              "    [theme=dark] .colab-df-convert {\n",
              "      background-color: #3B4455;\n",
              "      fill: #D2E3FC;\n",
              "    }\n",
              "\n",
              "    [theme=dark] .colab-df-convert:hover {\n",
              "      background-color: #434B5C;\n",
              "      box-shadow: 0px 1px 3px 1px rgba(0, 0, 0, 0.15);\n",
              "      filter: drop-shadow(0px 1px 2px rgba(0, 0, 0, 0.3));\n",
              "      fill: #FFFFFF;\n",
              "    }\n",
              "  </style>\n",
              "\n",
              "      <script>\n",
              "        const buttonEl =\n",
              "          document.querySelector('#df-31cf0e2d-c490-4953-996d-bed59ce9555f button.colab-df-convert');\n",
              "        buttonEl.style.display =\n",
              "          google.colab.kernel.accessAllowed ? 'block' : 'none';\n",
              "\n",
              "        async function convertToInteractive(key) {\n",
              "          const element = document.querySelector('#df-31cf0e2d-c490-4953-996d-bed59ce9555f');\n",
              "          const dataTable =\n",
              "            await google.colab.kernel.invokeFunction('convertToInteractive',\n",
              "                                                     [key], {});\n",
              "          if (!dataTable) return;\n",
              "\n",
              "          const docLinkHtml = 'Like what you see? Visit the ' +\n",
              "            '<a target=\"_blank\" href=https://colab.research.google.com/notebooks/data_table.ipynb>data table notebook</a>'\n",
              "            + ' to learn more about interactive tables.';\n",
              "          element.innerHTML = '';\n",
              "          dataTable['output_type'] = 'display_data';\n",
              "          await google.colab.output.renderOutput(dataTable, element);\n",
              "          const docLink = document.createElement('div');\n",
              "          docLink.innerHTML = docLinkHtml;\n",
              "          element.appendChild(docLink);\n",
              "        }\n",
              "      </script>\n",
              "    </div>\n",
              "  </div>\n",
              "  "
            ]
          },
          "metadata": {},
          "execution_count": 199
        }
      ]
    },
    {
      "cell_type": "code",
      "source": [
        "df.isna().any()"
      ],
      "metadata": {
        "colab": {
          "base_uri": "https://localhost:8080/"
        },
        "id": "Qjghct4eur2x",
        "outputId": "d0c3f01c-422b-40a3-c054-693bfe525dfd"
      },
      "execution_count": 200,
      "outputs": [
        {
          "output_type": "execute_result",
          "data": {
            "text/plain": [
              "Age                   False\n",
              "Experience            False\n",
              "Income                False\n",
              "ZIP Code              False\n",
              "Family                False\n",
              "CCAvg                 False\n",
              "Education             False\n",
              "Mortgage              False\n",
              "Securities Account    False\n",
              "CD Account            False\n",
              "Online                False\n",
              "CreditCard            False\n",
              "Personal Loan         False\n",
              "dtype: bool"
            ]
          },
          "metadata": {},
          "execution_count": 200
        }
      ]
    },
    {
      "cell_type": "markdown",
      "source": [
        "## Train Test Split"
      ],
      "metadata": {
        "id": "HgeEuEIqwJzb"
      }
    },
    {
      "cell_type": "code",
      "source": [
        "df.shape"
      ],
      "metadata": {
        "colab": {
          "base_uri": "https://localhost:8080/"
        },
        "id": "iH88BNkqv6zi",
        "outputId": "d3d53916-3680-4f81-f7f5-387cb2367978"
      },
      "execution_count": 201,
      "outputs": [
        {
          "output_type": "execute_result",
          "data": {
            "text/plain": [
              "(5000, 13)"
            ]
          },
          "metadata": {},
          "execution_count": 201
        }
      ]
    },
    {
      "cell_type": "code",
      "source": [
        "x = df.iloc[:,:-1].values\n",
        "y = df.iloc[:,-1].values"
      ],
      "metadata": {
        "id": "p8Ju-6TEwNe9"
      },
      "execution_count": 202,
      "outputs": []
    },
    {
      "cell_type": "code",
      "source": [
        "x_train,x_test,y_train,y_test = train_test_split(x, y, test_size=0.25, random_state=69)"
      ],
      "metadata": {
        "id": "OJhxXdIuwORT"
      },
      "execution_count": 203,
      "outputs": []
    },
    {
      "cell_type": "code",
      "source": [
        "sc = StandardScaler()\n",
        "x_train = sc.fit_transform(x_train)\n",
        "x_test = sc.transform(x_test)"
      ],
      "metadata": {
        "id": "xveATpblwKF1"
      },
      "execution_count": 204,
      "outputs": []
    },
    {
      "cell_type": "code",
      "source": [
        "x_train.shape, x_test.shape, y_train.shape, y_test.shape"
      ],
      "metadata": {
        "colab": {
          "base_uri": "https://localhost:8080/"
        },
        "id": "tmDMaa12wSzD",
        "outputId": "9522cf05-96a6-468a-dcb2-317ef0791d08"
      },
      "execution_count": 205,
      "outputs": [
        {
          "output_type": "execute_result",
          "data": {
            "text/plain": [
              "((3750, 12), (1250, 12), (3750,), (1250,))"
            ]
          },
          "metadata": {},
          "execution_count": 205
        }
      ]
    },
    {
      "cell_type": "markdown",
      "source": [
        "# **# PyTorch Neural Network**"
      ],
      "metadata": {
        "id": "AnGWUAuswHMk"
      }
    },
    {
      "cell_type": "code",
      "source": [
        "batch_size = 64"
      ],
      "metadata": {
        "id": "KJgyXiXeyyjg"
      },
      "execution_count": 206,
      "outputs": []
    },
    {
      "cell_type": "code",
      "source": [
        "train_x = torch.from_numpy(x_train).to(torch.float32)\n",
        "train_y = torch.from_numpy(y_train).to(torch.float32)"
      ],
      "metadata": {
        "id": "zxk9-5tLwUCT"
      },
      "execution_count": 207,
      "outputs": []
    },
    {
      "cell_type": "code",
      "source": [
        "test_x = torch.from_numpy(x_test).to(torch.float32)\n",
        "test_y = torch.from_numpy(y_test).to(torch.float32)"
      ],
      "metadata": {
        "id": "6Ryxwq9QnQer"
      },
      "execution_count": 208,
      "outputs": []
    },
    {
      "cell_type": "code",
      "source": [
        "class Data(Dataset):\n",
        "    def __init__(self, x, y):\n",
        "        self.x = torch.from_numpy(x.astype(np.float32))\n",
        "        self.y = torch.from_numpy(y.astype(np.float32))\n",
        "        self.len = self.x.shape[0]\n",
        "       \n",
        "    def __getitem__(self, index):\n",
        "        return self.x[index], self.y[index]\n",
        "   \n",
        "    def __len__(self):\n",
        "        return self.len"
      ],
      "metadata": {
        "id": "a2A089EYwXKd"
      },
      "execution_count": 209,
      "outputs": []
    },
    {
      "cell_type": "code",
      "source": [
        "train_x.shape, train_y.shape"
      ],
      "metadata": {
        "colab": {
          "base_uri": "https://localhost:8080/"
        },
        "id": "lTSUVa2E3QJG",
        "outputId": "e616aba7-510d-4eef-dcf1-b8a86d4d34c4"
      },
      "execution_count": 210,
      "outputs": [
        {
          "output_type": "execute_result",
          "data": {
            "text/plain": [
              "(torch.Size([3750, 12]), torch.Size([3750]))"
            ]
          },
          "metadata": {},
          "execution_count": 210
        }
      ]
    },
    {
      "cell_type": "code",
      "source": [
        "train_data = TensorDataset(train_x,train_y)\n",
        "train_dataloader = DataLoader(dataset=train_data, batch_size=batch_size, shuffle=True)"
      ],
      "metadata": {
        "id": "RP-I1x5F0MVs"
      },
      "execution_count": 211,
      "outputs": []
    },
    {
      "cell_type": "code",
      "source": [
        "test_data = TensorDataset(test_x,test_y)\n",
        "test_dataloader = DataLoader(dataset=test_data, batch_size=batch_size, shuffle=True)"
      ],
      "metadata": {
        "id": "5KbhrUYd1Qoq"
      },
      "execution_count": 212,
      "outputs": []
    },
    {
      "cell_type": "markdown",
      "source": [
        "# **# Building Model**"
      ],
      "metadata": {
        "id": "BE9oAbQ21Tp-"
      }
    },
    {
      "cell_type": "code",
      "source": [
        "class NeuralNetwork(torch.nn.Module):\n",
        "    \n",
        "    def __init__(self):\n",
        "        super(NeuralNetwork,self).__init__()\n",
        "        \n",
        "        self.layer1 = torch.nn.Linear(12,16)\n",
        "        self.layer2 = torch.nn.Linear(16,8)\n",
        "        self.layer3 = torch.nn.Linear(8,1)\n",
        "        self.sigmoid = torch.nn.Sigmoid()\n",
        "        self.relu = torch.nn.ReLU()\n",
        "        \n",
        "    def forward(self, x):\n",
        "        x = self.layer1(x)\n",
        "        x = self.relu(x)\n",
        "        x = self.layer2(x)\n",
        "        x = self.relu(x)\n",
        "        x = self.layer3(x)\n",
        "        x = self.sigmoid(x)\n",
        "        return x"
      ],
      "metadata": {
        "id": "Tb13iZ9s2de-"
      },
      "execution_count": 213,
      "outputs": []
    },
    {
      "cell_type": "code",
      "source": [
        "neural_network = NeuralNetwork()"
      ],
      "metadata": {
        "id": "3l2SniaL5HQ8"
      },
      "execution_count": 214,
      "outputs": []
    },
    {
      "cell_type": "markdown",
      "metadata": {
        "id": "ee75431f"
      },
      "source": [
        "# **Weight Optimization using Ant Colony Optimization**"
      ]
    },
    {
      "cell_type": "code",
      "source": [
        "model = NeuralNetwork()\n",
        "torch.set_grad_enabled(False)\n",
        "param = np.concatenate([i.numpy().flatten() for i in model.parameters()])\n",
        "shape = [i.numpy().shape for i in model.parameters()]\n",
        "size = [i[0]*i[1] if len(i) == 2 else i[0] for i in shape]\n",
        "dim = len(param)\n",
        "\n",
        "print(\"Dim : \", len(param))\n",
        "print(\"Layers Shape : \", shape)\n",
        "print(\"Layers Size : \", size)"
      ],
      "metadata": {
        "colab": {
          "base_uri": "https://localhost:8080/"
        },
        "id": "EJ_d-fTDhsGF",
        "outputId": "29ca3614-ba46-4e88-e19e-4e031f8732dd"
      },
      "execution_count": 215,
      "outputs": [
        {
          "output_type": "stream",
          "name": "stdout",
          "text": [
            "Dim :  353\n",
            "Layers Shape :  [(16, 12), (16,), (8, 16), (8,), (1, 8), (1,)]\n",
            "Layers Size :  [192, 16, 128, 8, 8, 1]\n"
          ]
        }
      ]
    },
    {
      "cell_type": "code",
      "source": [
        "def calculate_accuracy(model):\n",
        "    y_pred = model(train_x)\n",
        "    y_pred = torch.where(y_pred>=0.5, 1, 0).flatten()\n",
        "    accuracy = (y_pred == train_y).sum().float().item() / len(train_x)\n",
        "    return accuracy"
      ],
      "metadata": {
        "id": "r_SPDptchimO"
      },
      "execution_count": 216,
      "outputs": []
    },
    {
      "cell_type": "code",
      "source": [
        "def set_params_particle(vector):\n",
        "  param = list()\n",
        "  cum_sum = 0\n",
        "  for i in range(len(size)):\n",
        "    array = vector[cum_sum : cum_sum + size[i]]\n",
        "    array = array.reshape(shape[i])\n",
        "    cum_sum += size[i]\n",
        "    param.append(array)\n",
        "  param = np.array(param, dtype=\"object\")\n",
        "    \n",
        "  model = NeuralNetwork()\n",
        "  for idx, wei in enumerate(model.parameters()):\n",
        "    wei.data = (torch.tensor(param[idx])).to(torch.float32)\n",
        "    \n",
        "  return model"
      ],
      "metadata": {
        "id": "g9WElN9HleoZ"
      },
      "execution_count": 217,
      "outputs": []
    },
    {
      "cell_type": "code",
      "source": [
        "def get_model_params_vector(model):\n",
        "  vector = np.concatenate([i.numpy().flatten() for i in model.parameters()])\n",
        "  return vector"
      ],
      "metadata": {
        "id": "wfOv8znQmWVx"
      },
      "execution_count": 218,
      "outputs": []
    },
    {
      "cell_type": "code",
      "source": [
        "ants = 10\n",
        "loops = 100\n",
        "evaporation_rate = 0.2\n",
        "influence_factor = 0.4"
      ],
      "metadata": {
        "id": "ucLv5SkwmpQb"
      },
      "execution_count": 219,
      "outputs": []
    },
    {
      "cell_type": "code",
      "source": [
        "pheromones = np.ones(dim)\n",
        "max_accuracy = 0\n",
        "fittest_vector = None\n",
        "\n",
        "for loop in range(loops):\n",
        "    # Generate Solution\n",
        "    paths = np.array([NeuralNetwork() for i in range(ants)])\n",
        "    accuracy = []\n",
        "    \n",
        "    for ant in range(ants):\n",
        "        # Flatten the weights and biases\n",
        "        vector = get_model_params_vector(paths[ant])\n",
        "        \n",
        "        # Multiply with pheromones \n",
        "        vector = vector * pheromones\n",
        "        \n",
        "        # Calculate Accuracy and Append to the list\n",
        "        model = set_params_particle(vector)\n",
        "        acc = calculate_accuracy(model)\n",
        "        accuracy.append(acc)\n",
        "        \n",
        "        # Update the updated path\n",
        "        paths[ant] = model\n",
        "        \n",
        "        # Reset\n",
        "        model = None\n",
        "        acc = None\n",
        "        \n",
        "    # Select fittest path and accuracy\n",
        "    paths = paths[np.argsort(accuracy)]\n",
        "    \n",
        "    if accuracy[np.argmax(accuracy)] > max_accuracy:\n",
        "        max_accuracy = accuracy[np.argmax(accuracy)]\n",
        "        fittest_vector = get_model_params_vector(paths[-1])\n",
        "    \n",
        "    # Update pheromones\n",
        "    alpha = 0\n",
        "    for ant in range(ants):\n",
        "        # Flatten the weights and biases\n",
        "        vector = get_model_params_vector(paths[ant])\n",
        "        \n",
        "        # Calculate alpha\n",
        "        alpha += (vector - fittest_vector)*influence_factor\n",
        "        \n",
        "    pheromones = (1-pheromones)*evaporation_rate + alpha\n",
        "    \n",
        "    if loop%10 == 0:\n",
        "        print(\"Iters {} :\".format(loop), calculate_accuracy(paths[-1]))"
      ],
      "metadata": {
        "colab": {
          "base_uri": "https://localhost:8080/"
        },
        "id": "3neS8oT0mu6f",
        "outputId": "4c287d96-1637-4573-b6c5-46775bb602c7"
      },
      "execution_count": 220,
      "outputs": [
        {
          "output_type": "stream",
          "name": "stdout",
          "text": [
            "Iters 0 : 0.9045333333333333\n",
            "Iters 10 : 0.9026666666666666\n",
            "Iters 20 : 0.9026666666666666\n",
            "Iters 30 : 0.9026666666666666\n",
            "Iters 40 : 0.9026666666666666\n",
            "Iters 50 : 0.9026666666666666\n",
            "Iters 60 : 0.9026666666666666\n",
            "Iters 70 : 0.9026666666666666\n",
            "Iters 80 : 0.9026666666666666\n",
            "Iters 90 : 0.9026666666666666\n"
          ]
        }
      ]
    },
    {
      "cell_type": "code",
      "source": [
        "print(\"Maximum Accuracy : \", max_accuracy)\n",
        "best_model = set_params_particle(fittest_vector)"
      ],
      "metadata": {
        "colab": {
          "base_uri": "https://localhost:8080/"
        },
        "id": "0Wk9yi2GsjZo",
        "outputId": "2a66acaa-1ddd-43cd-a8cf-52965fc1eef1"
      },
      "execution_count": 222,
      "outputs": [
        {
          "output_type": "stream",
          "name": "stdout",
          "text": [
            "Maximum Accuracy :  0.9050666666666667\n"
          ]
        }
      ]
    },
    {
      "cell_type": "markdown",
      "metadata": {
        "id": "9b4fa006"
      },
      "source": [
        "### Classification Report"
      ]
    },
    {
      "cell_type": "code",
      "execution_count": 223,
      "metadata": {
        "colab": {
          "base_uri": "https://localhost:8080/"
        },
        "id": "b97279cb",
        "outputId": "884c363a-5556-44fb-aaf2-a204bb169227"
      },
      "outputs": [
        {
          "output_type": "stream",
          "name": "stdout",
          "text": [
            "              precision    recall  f1-score   support\n",
            "\n",
            "           0       1.00      0.91      0.95      1242\n",
            "           1       0.04      0.62      0.08         8\n",
            "\n",
            "    accuracy                           0.91      1250\n",
            "   macro avg       0.52      0.77      0.52      1250\n",
            "weighted avg       0.99      0.91      0.95      1250\n",
            "\n"
          ]
        }
      ],
      "source": [
        "y_pred = best_model(test_x)\n",
        "y_pred = torch.where(y_pred>=0.5, 1, 0).flatten()\n",
        "print(classification_report(y_pred,test_y))"
      ]
    }
  ]
}